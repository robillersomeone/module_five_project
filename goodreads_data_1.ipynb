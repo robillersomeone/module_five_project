{
 "cells": [
  {
   "cell_type": "markdown",
   "metadata": {},
   "source": [
    "# Goodreads users and ratings"
   ]
  },
  {
   "cell_type": "code",
   "execution_count": 198,
   "metadata": {},
   "outputs": [],
   "source": [
    "from bs4 import BeautifulSoup as bs\n",
    "import urllib.request\n",
    "import requests\n",
    "import time\n",
    "import re\n",
    "import pandas as pd"
   ]
  },
  {
   "cell_type": "markdown",
   "metadata": {},
   "source": [
    "## Get the user urls for the first page of the members group"
   ]
  },
  {
   "cell_type": "code",
   "execution_count": 8,
   "metadata": {},
   "outputs": [],
   "source": [
    "member_url = 'https://www.goodreads.com/group/105786-goodreads-reviewers-group/members?sort=num_comments'\n",
    "r = urllib.request.urlopen(member_url)"
   ]
  },
  {
   "cell_type": "code",
   "execution_count": 9,
   "metadata": {},
   "outputs": [],
   "source": [
    "soup = bs(r, 'html.parser')"
   ]
  },
  {
   "cell_type": "code",
   "execution_count": 16,
   "metadata": {},
   "outputs": [],
   "source": [
    "users_urls = soup.find_all('a', {'class': 'userName'}, href=True)"
   ]
  },
  {
   "cell_type": "code",
   "execution_count": 126,
   "metadata": {},
   "outputs": [],
   "source": [
    "u =  [users_urls[i]['href'] for i in range(len(users_urls))]"
   ]
  },
  {
   "cell_type": "code",
   "execution_count": 25,
   "metadata": {},
   "outputs": [
    {
     "data": {
      "text/plain": [
       "'/user/show/14895890-rebecca-not-reviewing-at-the-moment'"
      ]
     },
     "execution_count": 25,
     "metadata": {},
     "output_type": "execute_result"
    }
   ],
   "source": [
    "users_urls[1]['href']"
   ]
  },
  {
   "cell_type": "code",
   "execution_count": 13,
   "metadata": {},
   "outputs": [
    {
     "data": {
      "text/plain": [
       "<a aria-label=\"Goodreads Home\" class=\"siteHeader__logo\" data-reactid=\".21zmbfzzdvk.1.0.2\" href=\"/\" title=\"Goodreads Home\"></a>"
      ]
     },
     "execution_count": 13,
     "metadata": {},
     "output_type": "execute_result"
    }
   ],
   "source": [
    "soup.a"
   ]
  },
  {
   "cell_type": "markdown",
   "metadata": {},
   "source": [
    "# Try and go right from the user to the comments"
   ]
  },
  {
   "cell_type": "code",
   "execution_count": 377,
   "metadata": {},
   "outputs": [
    {
     "data": {
      "text/plain": [
       "'/user/show/4166936-cora-tea-party-princess'"
      ]
     },
     "execution_count": 377,
     "metadata": {},
     "output_type": "execute_result"
    }
   ],
   "source": [
    "u[0]"
   ]
  },
  {
   "cell_type": "code",
   "execution_count": 177,
   "metadata": {},
   "outputs": [],
   "source": [
    "books.append(u)"
   ]
  },
  {
   "cell_type": "code",
   "execution_count": 179,
   "metadata": {},
   "outputs": [],
   "source": [
    "books.append(users_urls[i]['href'] for i in range(len(users_urls)))"
   ]
  },
  {
   "cell_type": "code",
   "execution_count": 135,
   "metadata": {},
   "outputs": [],
   "source": [
    "just_user_ids = ['/review/list/' + u[i][11:] for i in range(len(u))]"
   ]
  },
  {
   "cell_type": "code",
   "execution_count": 378,
   "metadata": {},
   "outputs": [
    {
     "data": {
      "text/plain": [
       "'/review/list/4166936-cora-tea-party-princess'"
      ]
     },
     "execution_count": 378,
     "metadata": {},
     "output_type": "execute_result"
    }
   ],
   "source": [
    "just_user_ids[0]"
   ]
  },
  {
   "cell_type": "code",
   "execution_count": 379,
   "metadata": {},
   "outputs": [
    {
     "data": {
      "text/plain": [
       "'/review/list/4166936-cora-tea-party-princess'"
      ]
     },
     "execution_count": 379,
     "metadata": {},
     "output_type": "execute_result"
    }
   ],
   "source": [
    "['/review/list/'+users_urls[i]['href'][11:] for i in range(len(users_urls))][0]"
   ]
  },
  {
   "cell_type": "markdown",
   "metadata": {},
   "source": [
    "## Now to loop through all the members of the group"
   ]
  },
  {
   "cell_type": "code",
   "execution_count": null,
   "metadata": {},
   "outputs": [],
   "source": [
    "# '/review/list/4859493-pepperp0t'\n",
    "\n",
    "#check what to do with private profiles"
   ]
  },
  {
   "cell_type": "code",
   "execution_count": 184,
   "metadata": {},
   "outputs": [],
   "source": [
    "\n",
    "def get_users_urls():\n",
    "\n",
    "    urls = []\n",
    "    for i in range(100):\n",
    "        \n",
    "        users_url = f'https://www.goodreads.com/group/105786-goodreads-reviewers-group/members?page={i+1}&sort=num_comments'\n",
    "        time.sleep(.5)\n",
    "        user_r = urllib.request.urlopen(users_url)\n",
    "        soup_url = bs(user_r, 'html.parser')\n",
    "        users_urls = soup_url.find_all('a', {'class': 'userName'}, href=True)\n",
    "        urls.append(['/review/list/'+users_urls[i]['href'][11:] for i in range(len(users_urls))])\n",
    "        \n",
    "    return urls\n",
    "\n",
    "\n"
   ]
  },
  {
   "cell_type": "code",
   "execution_count": 185,
   "metadata": {},
   "outputs": [],
   "source": [
    "user_urls_list = get_users_urls()"
   ]
  },
  {
   "cell_type": "code",
   "execution_count": 186,
   "metadata": {},
   "outputs": [
    {
     "data": {
      "text/plain": [
       "100"
      ]
     },
     "execution_count": 186,
     "metadata": {},
     "output_type": "execute_result"
    }
   ],
   "source": [
    "len(user_urls_list)"
   ]
  },
  {
   "cell_type": "code",
   "execution_count": 188,
   "metadata": {},
   "outputs": [
    {
     "data": {
      "text/plain": [
       "['/review/list/4166936-cora-tea-party-princess',\n",
       " '/review/list/14895890-rebecca-not-reviewing-at-the-moment',\n",
       " '/review/list/763271-nancy',\n",
       " '/review/list/4859493-pepperp0t',\n",
       " '/review/list/33931822-destiny-brown',\n",
       " '/review/list/49901449-rishit',\n",
       " '/review/list/16273240-april-wood',\n",
       " '/review/list/34170124-t-r-robinson',\n",
       " '/review/list/23016460-amber',\n",
       " '/review/list/6111245-rose-desert-rose',\n",
       " '/review/list/823548-p-i',\n",
       " '/review/list/31024389-john-autero',\n",
       " '/review/list/4174124-jola',\n",
       " '/review/list/23216850-ashok',\n",
       " '/review/list/18721584-raevyn-lucia-i-m-in-it-for-the-books',\n",
       " '/review/list/44430291-saradia-chatterjee',\n",
       " '/review/list/23423339-groovy-lee',\n",
       " '/review/list/34588624-tonya-coffey',\n",
       " '/review/list/33182504-prashant-pinge',\n",
       " '/review/list/62757015-lgandt',\n",
       " '/review/list/34101827-alicia-ehrhardt',\n",
       " '/review/list/17488666-dennis-meredith',\n",
       " '/review/list/16112063-david-brian',\n",
       " '/review/list/20729688-this-coull-chick',\n",
       " '/review/list/30997061-cy-wyss',\n",
       " '/review/list/60551076-joshua-grant',\n",
       " '/review/list/22943325-maxine-booklover-catlady',\n",
       " '/review/list/72965725-mfonemana-uduak',\n",
       " '/review/list/29251934-sam-fury',\n",
       " '/review/list/16156990-sebanti']"
      ]
     },
     "execution_count": 188,
     "metadata": {},
     "output_type": "execute_result"
    }
   ],
   "source": [
    "user_urls_list[0]"
   ]
  },
  {
   "cell_type": "code",
   "execution_count": 195,
   "metadata": {},
   "outputs": [],
   "source": [
    "final_user_urls = sum(user_urls_list, [])"
   ]
  },
  {
   "cell_type": "code",
   "execution_count": 196,
   "metadata": {},
   "outputs": [
    {
     "data": {
      "text/plain": [
       "3000"
      ]
     },
     "execution_count": 196,
     "metadata": {},
     "output_type": "execute_result"
    }
   ],
   "source": [
    "len(final_user_urls)\n"
   ]
  },
  {
   "cell_type": "code",
   "execution_count": 301,
   "metadata": {},
   "outputs": [
    {
     "data": {
      "text/plain": [
       "'/review/list/25052670-denise-webster'"
      ]
     },
     "execution_count": 301,
     "metadata": {},
     "output_type": "execute_result"
    }
   ],
   "source": [
    "final_user_urls[-1]"
   ]
  },
  {
   "cell_type": "code",
   "execution_count": 200,
   "metadata": {},
   "outputs": [],
   "source": [
    "users_url_series = pd.Series(final_user_urls)"
   ]
  },
  {
   "cell_type": "markdown",
   "metadata": {},
   "source": [
    "### This is test code for flattening lists"
   ]
  },
  {
   "cell_type": "code",
   "execution_count": 190,
   "metadata": {},
   "outputs": [
    {
     "data": {
      "text/plain": [
       "3000"
      ]
     },
     "execution_count": 190,
     "metadata": {},
     "output_type": "execute_result"
    }
   ],
   "source": [
    "30*100"
   ]
  },
  {
   "cell_type": "code",
   "execution_count": 191,
   "metadata": {},
   "outputs": [],
   "source": [
    "double = [[1,2,3], [4,5,6], [7,8,9]]"
   ]
  },
  {
   "cell_type": "code",
   "execution_count": 194,
   "metadata": {},
   "outputs": [
    {
     "data": {
      "text/plain": [
       "[1, 2, 3, 4, 5, 6, 7, 8, 9]"
      ]
     },
     "execution_count": 194,
     "metadata": {},
     "output_type": "execute_result"
    }
   ],
   "source": [
    "sum(double, [])"
   ]
  },
  {
   "cell_type": "code",
   "execution_count": 201,
   "metadata": {},
   "outputs": [],
   "source": [
    "# export series to save\n",
    "final_user_urls = sum(user_urls_list, [])\n",
    "users_url_series = pd.Series(final_user_urls)\n",
    "users_url_series.to_csv('csv_files/user_base_urls.csv', encoding='utf-8', index=False)"
   ]
  },
  {
   "cell_type": "markdown",
   "metadata": {},
   "source": [
    "# Go from user url to review url"
   ]
  },
  {
   "cell_type": "code",
   "execution_count": 96,
   "metadata": {},
   "outputs": [],
   "source": [
    "user_url = 'https://www.goodreads.com/user/show/23423339-groovy-lee'\n",
    "user_r = urllib.request.urlopen(user_url)\n",
    "\n",
    "soup_user = bs(user_r, 'html.parser')\n"
   ]
  },
  {
   "cell_type": "code",
   "execution_count": 120,
   "metadata": {},
   "outputs": [],
   "source": [
    "mid_page = soup_user.find('div', class_= 'smallText')"
   ]
  },
  {
   "cell_type": "code",
   "execution_count": null,
   "metadata": {},
   "outputs": [],
   "source": [
    "soup.find_all(\"div\", class_=\"stylelistrow\")"
   ]
  },
  {
   "cell_type": "code",
   "execution_count": 124,
   "metadata": {},
   "outputs": [
    {
     "data": {
      "text/plain": [
       "'/review/list/23423339?sort=rating&view=reviews'"
      ]
     },
     "execution_count": 124,
     "metadata": {},
     "output_type": "execute_result"
    }
   ],
   "source": [
    "mid_page.a['href']"
   ]
  },
  {
   "cell_type": "markdown",
   "metadata": {},
   "source": [
    "This is done in the get_users_url function"
   ]
  },
  {
   "cell_type": "markdown",
   "metadata": {},
   "source": [
    "## Test reviews"
   ]
  },
  {
   "cell_type": "code",
   "execution_count": 44,
   "metadata": {},
   "outputs": [],
   "source": [
    "reviews = 'https://www.goodreads.com/review/list/4622890-emily-may?sort=rating&view=reviews&page=40'"
   ]
  },
  {
   "cell_type": "code",
   "execution_count": 45,
   "metadata": {},
   "outputs": [],
   "source": [
    "r2 = urllib.request.urlopen(reviews)"
   ]
  },
  {
   "cell_type": "code",
   "execution_count": 46,
   "metadata": {},
   "outputs": [],
   "source": [
    "soup = bs(r2, 'html.parser')"
   ]
  },
  {
   "cell_type": "code",
   "execution_count": 47,
   "metadata": {},
   "outputs": [],
   "source": [
    "x = soup.find_all('tr', {'class': 'bookalike review'})"
   ]
  },
  {
   "cell_type": "code",
   "execution_count": 71,
   "metadata": {},
   "outputs": [],
   "source": [
    "q = soup.find_all('td', {'a': 'href', 'class':'field avg_rating' })"
   ]
  },
  {
   "cell_type": "code",
   "execution_count": 67,
   "metadata": {},
   "outputs": [
    {
     "data": {
      "text/plain": [
       "30"
      ]
     },
     "execution_count": 67,
     "metadata": {},
     "output_type": "execute_result"
    }
   ],
   "source": [
    "len(x)"
   ]
  },
  {
   "cell_type": "code",
   "execution_count": 68,
   "metadata": {},
   "outputs": [
    {
     "data": {
      "text/plain": [
       "641"
      ]
     },
     "execution_count": 68,
     "metadata": {},
     "output_type": "execute_result"
    }
   ],
   "source": [
    "len(q)"
   ]
  },
  {
   "cell_type": "code",
   "execution_count": 75,
   "metadata": {
    "collapsed": true
   },
   "outputs": [
    {
     "data": {
      "text/plain": [
       "<tr class=\"bookalike review\" id=\"review_134286951\">\n",
       "<td class=\"field checkbox\"><label>checkbox</label><div class=\"value\">       \n",
       "</div></td> <td class=\"field position\" style=\"display: none\"><label>position</label><div class=\"value\"></div></td> <td class=\"field cover\"><label>cover</label><div class=\"value\"> <div class=\"js-dataTooltip\" data-use-wtr-tooltip=\"true\">\n",
       "<div class=\"js-tooltipTrigger tooltipTrigger\" data-resource-id=\"57895\" data-resource-type=\"Book\">\n",
       "<a href=\"/book/show/57895.Battle_Royale_Vol_15\"><img alt=\"Battle Royale, Vol. 15 (Battle Royale, #15)\" id=\"cover_review_134286951\" src=\"https://images.gr-assets.com/books/1347660773s/57895.jpg\"/></a>\n",
       "</div>\n",
       "</div>\n",
       "</div></td> <td class=\"field title\"><label>title</label><div class=\"value\"> <a href=\"/book/show/57895.Battle_Royale_Vol_15\" title=\"Battle Royale, Vol. 15 (Battle Royale, #15)\">\n",
       "      Battle Royale, Vol. 15\n",
       "        <span class=\"darkGreyText\">(Battle Royale, #15)</span>\n",
       "</a></div></td> <td class=\"field author\"><label>author</label><div class=\"value\"> <a href=\"/author/show/32595.Koushun_Takami\">Takami, Koushun</a>\n",
       "</div></td> <td class=\"field isbn\" style=\"display: none\"><label>isbn</label><div class=\"value\">    1598162039\n",
       "</div></td> <td class=\"field isbn13\" style=\"display: none\"><label>isbn13</label><div class=\"value\">    9781598162035\n",
       "</div></td> <td class=\"field asin\" style=\"display: none\"><label>asin</label><div class=\"value\">\n",
       "</div></td> <td class=\"field num_pages\" style=\"display: none\"><label>num pages</label><div class=\"value\"> <nobr>\n",
       "        224\n",
       "        <span class=\"greyText\">pp</span>\n",
       "</nobr>\n",
       "</div></td> <td class=\"field avg_rating\"><label>avg rating</label><div class=\"value\">    4.24\n",
       "</div></td> <td class=\"field num_ratings\" style=\"display: none\"><label>num ratings</label><div class=\"value\">    1,140\n",
       "</div></td> <td class=\"field date_pub\" style=\"display: none\"><label>date pub</label><div class=\"value\">      Apr 01, 2005\n",
       "</div></td> <td class=\"field date_pub_edition\" style=\"display: none\"><label>date pub edition</label><div class=\"value\">      Apr 11, 2006\n",
       "</div></td>\n",
       "<td class=\"field rating\"><label>Emily May's rating</label><div class=\"value\">\n",
       "<span class=\" staticStars\" title=\"really liked it\"><span class=\"staticStar p10\" size=\"15x15\">really liked it</span><span class=\"staticStar p10\" size=\"15x15\"></span><span class=\"staticStar p10\" size=\"15x15\"></span><span class=\"staticStar p10\" size=\"15x15\"></span><span class=\"staticStar p0\" size=\"15x15\"></span></span>\n",
       "</div></td><td class=\"field shelves\"><label>my rating</label><div class=\"value\"> <div class=\"stars\" data-rating=\"0\" data-resource-id=\"57895\" data-submit-url=\"/review/rate/57895?stars_click=false\" data-user-id=\"0\"><a class=\"star off\" href=\"#\" ref=\"\" title=\"did not like it\">1 of 5 stars</a><a class=\"star off\" href=\"#\" ref=\"\" title=\"it was ok\">2 of 5 stars</a><a class=\"star off\" href=\"#\" ref=\"\" title=\"liked it\">3 of 5 stars</a><a class=\"star off\" href=\"#\" ref=\"\" title=\"really liked it\">4 of 5 stars</a><a class=\"star off\" href=\"#\" ref=\"\" title=\"it was amazing\">5 of 5 stars</a></div>\n",
       "<span id=\"reviewMessage57895_false\"></span>\n",
       "<span id=\"successMessage57895_false\"></span>\n",
       "<div>\n",
       "<a class=\"smallText actionLinkLite\" href=\"/user/new\" rel=\"nofollow\">add to shelves</a>\n",
       "</div>\n",
       "</div></td><td class=\"field review\" style=\"display: none\"><label>review</label><div class=\"value\"> <span class=\"greyText\">None</span>\n",
       "<div class=\"clear\"></div>\n",
       "</div></td><td class=\"field notes\" style=\"display: none\"><label>notes</label><div class=\"value\"> <span class=\"greyText\">Notes are private!</span>\n",
       "</div></td><td class=\"field recommender\" style=\"display: none\"><label>recommender</label><div class=\"value\"> <span class=\"greyText\">none</span>\n",
       "</div></td>\n",
       "<td class=\"field comments\" style=\"display: none\"><label>comments</label><div class=\"value\"> <a href=\"/review/show/134286951\">0</a>\n",
       "</div></td>\n",
       "<td class=\"field votes\" style=\"display: none\"><label>votes</label><div class=\"value\"> <a href=\"/rating/voters/134286951?resource_type=Review\">0</a>\n",
       "</div></td>\n",
       "<td class=\"field read_count\" style=\"display: none\"><label># times read</label><div class=\"value\">        1\n",
       "</div></td><td class=\"field date_started\" style=\"display: none\"><label>date started</label><div class=\"value\">\n",
       "<div class=\"date_row\">\n",
       "<div class=\"editable_date date_started_7a862f495dd4430a964c9c95940fa7ea\">\n",
       "<span class=\"greyText\">not set</span>\n",
       "</div>\n",
       "</div>\n",
       "</div></td><td class=\"field date_read\"><label>date read</label><div class=\"value\">\n",
       "<div class=\"date_row\">\n",
       "<div class=\"editable_date date_read_7a862f495dd4430a964c9c95940fa7ea\">\n",
       "<span class=\"greyText\">not set</span>\n",
       "</div>\n",
       "</div>\n",
       "</div></td><td class=\"field date_added\"><label>date added</label><div class=\"value\"> <span title=\"December 09, 2010\">\n",
       "    Dec 09, 2010\n",
       "  </span>\n",
       "</div></td><td class=\"field date_purchased\" style=\"display: none\"><label>date purchased</label><div class=\"value\"></div></td><td class=\"field owned\" style=\"display: none\"><label>owned</label><div class=\"value\"></div></td><td class=\"field purchase_location\" style=\"display: none\"><label>purchase location</label><div class=\"value\"></div></td><td class=\"field condition\" style=\"display: none\"><label>condition</label><div class=\"value\"></div></td><td class=\"field format\" style=\"display: none\"><label>format</label><div class=\"value\">        Paperback\n",
       "</div></td><td class=\"field actions\"><label>actions</label><div class=\"value\"> <div>\n",
       "<a class=\"nobreak\" href=\"/review/show/134286951\">view</a>\n",
       "</div>\n",
       "</div></td>\n",
       "</tr>"
      ]
     },
     "execution_count": 75,
     "metadata": {},
     "output_type": "execute_result"
    }
   ],
   "source": [
    "x[0]"
   ]
  },
  {
   "cell_type": "code",
   "execution_count": 86,
   "metadata": {},
   "outputs": [
    {
     "data": {
      "text/plain": [
       "['avg rating    4.24\\n', '/book/show/57895.Battle_Royale_Vol_15']"
      ]
     },
     "execution_count": 86,
     "metadata": {},
     "output_type": "execute_result"
    }
   ],
   "source": [
    "[x[0].find('td', {'class':'field avg_rating' }).text, x[0].a['href']]\n"
   ]
  },
  {
   "cell_type": "code",
   "execution_count": 274,
   "metadata": {
    "collapsed": true
   },
   "outputs": [
    {
     "data": {
      "text/plain": [
       "[['4.24', '/book/show/57895.Battle_Royale_Vol_15'],\n",
       " ['4.22', '/book/show/13178456-the-alpha-alternative'],\n",
       " ['3.88', '/book/show/37526.Henry_V'],\n",
       " ['4.12', '/book/show/833423.Wyrd_Sisters'],\n",
       " ['4.20', '/book/show/12084655-chasing-magic'],\n",
       " ['3.81', '/book/show/6334.Never_Let_Me_Go'],\n",
       " ['4.18', '/book/show/57894.Battle_Royale_Vol_04'],\n",
       " ['3.58', '/book/show/1515939.Mallory_on_Strike'],\n",
       " ['3.88', '/book/show/6625698-don-t-breathe-a-word'],\n",
       " ['3.76', '/book/show/3257374-looking-for-jj'],\n",
       " ['4.08', '/book/show/11988046-pivot-point'],\n",
       " ['3.73', '/book/show/1527100.Tattoos_Telltales_and_Terrible_Terrible_Twins'],\n",
       " ['3.74', '/book/show/1527121.Parties_Predicaments_and_Undercover_Pets'],\n",
       " ['3.94', '/book/show/1527123.Hassles_Heart_Pings_and_Sad_Happy_Endings'],\n",
       " ['4.12', '/book/show/57892.Battle_Royale_Vol_02'],\n",
       " ['3.71', '/book/show/1527152.The_Past_the_Present_and_the_Loud_Loud_Girl'],\n",
       " ['3.64', '/book/show/1527172.Amber_and_the_Hot_Pepper_Jelly'],\n",
       " ['3.67', '/book/show/1527174.Sweet_talking_TJ'],\n",
       " ['3.71', '/book/show/1527175.Twists_Turns_and_100_Tilda'],\n",
       " ['4.09', '/book/show/11904233-the-tiny-book-of-tiny-stories-vol-1'],\n",
       " ['3.78', '/book/show/11733187-the-dark-unwinding'],\n",
       " ['4.05', '/book/show/948458.The_Opal_Deception'],\n",
       " ['3.41', '/book/show/11516221-the-scorpion-rules'],\n",
       " ['4.22', '/book/show/160629.A_Bear_Called_Paddington'],\n",
       " ['4.43', '/book/show/23515326-a-darker-shade-of-magic---sample'],\n",
       " ['3.75', '/book/show/125567.Return_to_Horrorland'],\n",
       " ['3.74', '/book/show/17286899-in-darkness'],\n",
       " ['3.94', '/book/show/10592.Carrie'],\n",
       " ['3.86', '/book/show/11409124-the-weight-of-water'],\n",
       " ['3.94', '/book/show/12033455-i-ve-got-your-number']]"
      ]
     },
     "execution_count": 274,
     "metadata": {},
     "output_type": "execute_result"
    }
   ],
   "source": [
    "# here we could get both the rating and the url for the book\n",
    "# since the rating is on the book page, we don't need to save the rating here\n",
    "# also grabbed the comment if there\n",
    "\n",
    "# this is the rating and the book url\n",
    "[[x[i].find('td', {'class':'field avg_rating'}).text[14:-1], x[i].a['href']] for i in range(len(x))]\n",
    "\n",
    "# this grabs the comments\n",
    "# [[x[i].find('td', {'class':'field avg_rating'}).text[14:-1],x[i].find('td', {'class':'field review'}).text[7:-2], x[i].a['href']] for i in range(len(x))]\n",
    "\n",
    "# this is just the rating\n",
    "#[x[i].a['href'] for i in range(len(x))]"
   ]
  },
  {
   "cell_type": "markdown",
   "metadata": {},
   "source": [
    "## make a for loop, if the page has no bookalike reviews stop the loop...\n",
    "this might be a while loop"
   ]
  },
  {
   "cell_type": "code",
   "execution_count": null,
   "metadata": {},
   "outputs": [],
   "source": [
    "# get the ratings for one user...\n",
    "# need to loop through the cases and make an if statement to stop the loop\n"
   ]
  },
  {
   "cell_type": "code",
   "execution_count": 209,
   "metadata": {},
   "outputs": [
    {
     "name": "stdout",
     "output_type": "stream",
     "text": [
      "3\n",
      "4\n",
      "5\n",
      "6\n",
      "7\n",
      "8\n",
      "9\n",
      "10\n",
      "11\n",
      "12\n"
     ]
    },
    {
     "data": {
      "text/plain": [
       "[7, 8, 9, 10, 11, 12, 13, 14, 15]"
      ]
     },
     "execution_count": 209,
     "metadata": {},
     "output_type": "execute_result"
    }
   ],
   "source": [
    "for i in range(10):\n",
    "     if len(str(i+3)) != 0:\n",
    "        print(i+3)\n",
    "\n",
    "books =[]\n",
    "for i in range(10):\n",
    "     if i+7 < 16:\n",
    "        books.append(i+7)\n",
    "books"
   ]
  },
  {
   "cell_type": "code",
   "execution_count": 309,
   "metadata": {},
   "outputs": [],
   "source": [
    "# def test_function(number):\n",
    "#     all_numbers = []\n",
    "#     for i in range(number, 15):\n",
    "#         all_numbers.append([i])\n",
    "#         if i is 'd':\n",
    "#             break\n",
    "#     return all_numbers"
   ]
  },
  {
   "cell_type": "code",
   "execution_count": 327,
   "metadata": {},
   "outputs": [],
   "source": [
    "def test_function(number):\n",
    "    all_numbers = []\n",
    "    for i in number:\n",
    "        all_numbers.append([i])\n",
    "        if i is 'd':\n",
    "            break\n",
    "    return all_numbers"
   ]
  },
  {
   "cell_type": "code",
   "execution_count": 331,
   "metadata": {},
   "outputs": [
    {
     "data": {
      "text/plain": [
       "[['a'], ['b'], ['c'], ['d']]"
      ]
     },
     "execution_count": 331,
     "metadata": {},
     "output_type": "execute_result"
    }
   ],
   "source": [
    "test_function(['a', 'b', 'c', 'd', 'e', 'f'])"
   ]
  },
  {
   "cell_type": "code",
   "execution_count": 329,
   "metadata": {},
   "outputs": [
    {
     "data": {
      "text/plain": [
       "['a', 'b', 'c', 'd']"
      ]
     },
     "execution_count": 329,
     "metadata": {},
     "output_type": "execute_result"
    }
   ],
   "source": [
    "sum(test_function(['a', 'b', 'c', 'd', 'e', 'f']), [])"
   ]
  },
  {
   "cell_type": "markdown",
   "metadata": {},
   "source": [
    "### Now put test function in a loop"
   ]
  },
  {
   "cell_type": "code",
   "execution_count": 330,
   "metadata": {},
   "outputs": [
    {
     "name": "stdout",
     "output_type": "stream",
     "text": [
      "[[['a']]]\n",
      "[[['x']]]\n",
      "[[['w']]]\n",
      "[[['d']]]\n",
      "[[['e']]]\n",
      "[[['f']]]\n"
     ]
    }
   ],
   "source": [
    "for i in ['a', 'x', 'w', 'd', 'e', 'f']:\n",
    "    total = [test_function(i)]\n",
    "    print(total)"
   ]
  },
  {
   "cell_type": "code",
   "execution_count": 266,
   "metadata": {},
   "outputs": [
    {
     "name": "stdout",
     "output_type": "stream",
     "text": [
      "Number is 16\n",
      "Number is 15\n",
      "Number is 14\n",
      "Number is 13\n",
      "Number is 12\n",
      "Number is 11\n",
      "Number is 10\n",
      "Number is 9\n",
      "Number is 8\n",
      "Number is 7\n",
      "Number is 6\n",
      "Number is 5\n",
      "Number is 4\n",
      "Out of loop\n"
     ]
    }
   ],
   "source": [
    "number = 0\n",
    "\n",
    "for number in range(16,0,-1):\n",
    "    number = number \n",
    "\n",
    "    if number == 3:\n",
    "        break    # break here\n",
    "\n",
    "    print('Number is ' + str(number))\n",
    "\n",
    "print('Out of loop')"
   ]
  },
  {
   "cell_type": "code",
   "execution_count": 265,
   "metadata": {},
   "outputs": [
    {
     "data": {
      "text/plain": [
       "[2, 3, 4, 5, 6, 7, 8, 9, 10, 11, 12, 13, 14, 15]"
      ]
     },
     "execution_count": 265,
     "metadata": {},
     "output_type": "execute_result"
    }
   ],
   "source": [
    "list(range(2,16))\n"
   ]
  },
  {
   "cell_type": "markdown",
   "metadata": {},
   "source": [
    "# Method to get book ratings by user"
   ]
  },
  {
   "cell_type": "code",
   "execution_count": null,
   "metadata": {},
   "outputs": [],
   "source": [
    "#'/review/list/4859493-pepperp0t'\n",
    "\n",
    "#chekc what to do with private profiles..."
   ]
  },
  {
   "cell_type": "code",
   "execution_count": 370,
   "metadata": {},
   "outputs": [],
   "source": [
    "# method to get all the ratings and reviews for one user\n",
    "# 33624775-ilias-stroulias\n",
    "def get_book_ratings(user_id):\n",
    "    user_reviews = []\n",
    "    for i in range(120):\n",
    "        review = f'https://www.goodreads.com{user_id}?sort=rating&view=reviews&page={i+1}'\n",
    "        time.sleep(1.6)\n",
    "        r = urllib.request.urlopen(review)\n",
    "        soup_r = bs(r, 'html.parser')\n",
    "        x = soup_r.find_all('tr', {'class': 'bookalike review'})\n",
    "        user_reviews.append([[x[i].find('td', {'class':'field avg_rating'}).text[14:-1],x[i].find('td', {'class':'field review'}).text[7:-2], x[i].a['href']] for i in range(len(x))])\n",
    "        if len(x) == 0:\n",
    "            break\n",
    "    return  user_reviews\n",
    "        \n",
    "        "
   ]
  },
  {
   "cell_type": "code",
   "execution_count": 364,
   "metadata": {},
   "outputs": [],
   "source": [
    "user_url_list = ['/review/list/23423339-groovy-lee', '/review/list/35755723-daniel-petra', '/review/list/4859493-pepperp0t']\n",
    "\n"
   ]
  },
  {
   "cell_type": "code",
   "execution_count": 359,
   "metadata": {},
   "outputs": [
    {
     "data": {
      "text/plain": [
       "'/review/list/4166936-cora-tea-party-princess'"
      ]
     },
     "execution_count": 359,
     "metadata": {},
     "output_type": "execute_result"
    }
   ],
   "source": [
    "len(final_user_urls)\n",
    "final_user_urls[0]"
   ]
  },
  {
   "cell_type": "code",
   "execution_count": 371,
   "metadata": {},
   "outputs": [
    {
     "ename": "KeyboardInterrupt",
     "evalue": "",
     "output_type": "error",
     "traceback": [
      "\u001b[0;31m---------------------------------------------------------------------------\u001b[0m",
      "\u001b[0;31mKeyboardInterrupt\u001b[0m                         Traceback (most recent call last)",
      "\u001b[0;32m<ipython-input-371-e3250b503325>\u001b[0m in \u001b[0;36m<module>\u001b[0;34m\u001b[0m\n\u001b[1;32m      4\u001b[0m \u001b[0;32mfor\u001b[0m \u001b[0mfinal_user_url\u001b[0m \u001b[0;32min\u001b[0m \u001b[0mfinal_user_urls\u001b[0m\u001b[0;34m:\u001b[0m\u001b[0;34m\u001b[0m\u001b[0;34m\u001b[0m\u001b[0m\n\u001b[1;32m      5\u001b[0m     \u001b[0;31m#print(reviews_url)\u001b[0m\u001b[0;34m\u001b[0m\u001b[0;34m\u001b[0m\u001b[0;34m\u001b[0m\u001b[0m\n\u001b[0;32m----> 6\u001b[0;31m     \u001b[0mfinal_book_ratings\u001b[0m\u001b[0;34m.\u001b[0m\u001b[0mappend\u001b[0m\u001b[0;34m(\u001b[0m\u001b[0mget_book_ratings\u001b[0m\u001b[0;34m(\u001b[0m\u001b[0mfinal_user_url\u001b[0m\u001b[0;34m)\u001b[0m\u001b[0;34m)\u001b[0m\u001b[0;34m\u001b[0m\u001b[0;34m\u001b[0m\u001b[0m\n\u001b[0m",
      "\u001b[0;32m<ipython-input-370-56917679be83>\u001b[0m in \u001b[0;36mget_book_ratings\u001b[0;34m(user_id)\u001b[0m\n\u001b[1;32m      6\u001b[0m         \u001b[0mreview\u001b[0m \u001b[0;34m=\u001b[0m \u001b[0;34mf'https://www.goodreads.com{user_id}?sort=rating&view=reviews&page={i+1}'\u001b[0m\u001b[0;34m\u001b[0m\u001b[0;34m\u001b[0m\u001b[0m\n\u001b[1;32m      7\u001b[0m         \u001b[0mtime\u001b[0m\u001b[0;34m.\u001b[0m\u001b[0msleep\u001b[0m\u001b[0;34m(\u001b[0m\u001b[0;36m1.6\u001b[0m\u001b[0;34m)\u001b[0m\u001b[0;34m\u001b[0m\u001b[0;34m\u001b[0m\u001b[0m\n\u001b[0;32m----> 8\u001b[0;31m         \u001b[0mr\u001b[0m \u001b[0;34m=\u001b[0m \u001b[0murllib\u001b[0m\u001b[0;34m.\u001b[0m\u001b[0mrequest\u001b[0m\u001b[0;34m.\u001b[0m\u001b[0murlopen\u001b[0m\u001b[0;34m(\u001b[0m\u001b[0mreview\u001b[0m\u001b[0;34m)\u001b[0m\u001b[0;34m\u001b[0m\u001b[0;34m\u001b[0m\u001b[0m\n\u001b[0m\u001b[1;32m      9\u001b[0m         \u001b[0msoup_r\u001b[0m \u001b[0;34m=\u001b[0m \u001b[0mbs\u001b[0m\u001b[0;34m(\u001b[0m\u001b[0mr\u001b[0m\u001b[0;34m,\u001b[0m \u001b[0;34m'html.parser'\u001b[0m\u001b[0;34m)\u001b[0m\u001b[0;34m\u001b[0m\u001b[0;34m\u001b[0m\u001b[0m\n\u001b[1;32m     10\u001b[0m         \u001b[0mx\u001b[0m \u001b[0;34m=\u001b[0m \u001b[0msoup_r\u001b[0m\u001b[0;34m.\u001b[0m\u001b[0mfind_all\u001b[0m\u001b[0;34m(\u001b[0m\u001b[0;34m'tr'\u001b[0m\u001b[0;34m,\u001b[0m \u001b[0;34m{\u001b[0m\u001b[0;34m'class'\u001b[0m\u001b[0;34m:\u001b[0m \u001b[0;34m'bookalike review'\u001b[0m\u001b[0;34m}\u001b[0m\u001b[0;34m)\u001b[0m\u001b[0;34m\u001b[0m\u001b[0;34m\u001b[0m\u001b[0m\n",
      "\u001b[0;32m~/anaconda3/envs/books/lib/python3.6/urllib/request.py\u001b[0m in \u001b[0;36murlopen\u001b[0;34m(url, data, timeout, cafile, capath, cadefault, context)\u001b[0m\n\u001b[1;32m    221\u001b[0m     \u001b[0;32melse\u001b[0m\u001b[0;34m:\u001b[0m\u001b[0;34m\u001b[0m\u001b[0;34m\u001b[0m\u001b[0m\n\u001b[1;32m    222\u001b[0m         \u001b[0mopener\u001b[0m \u001b[0;34m=\u001b[0m \u001b[0m_opener\u001b[0m\u001b[0;34m\u001b[0m\u001b[0;34m\u001b[0m\u001b[0m\n\u001b[0;32m--> 223\u001b[0;31m     \u001b[0;32mreturn\u001b[0m \u001b[0mopener\u001b[0m\u001b[0;34m.\u001b[0m\u001b[0mopen\u001b[0m\u001b[0;34m(\u001b[0m\u001b[0murl\u001b[0m\u001b[0;34m,\u001b[0m \u001b[0mdata\u001b[0m\u001b[0;34m,\u001b[0m \u001b[0mtimeout\u001b[0m\u001b[0;34m)\u001b[0m\u001b[0;34m\u001b[0m\u001b[0;34m\u001b[0m\u001b[0m\n\u001b[0m\u001b[1;32m    224\u001b[0m \u001b[0;34m\u001b[0m\u001b[0m\n\u001b[1;32m    225\u001b[0m \u001b[0;32mdef\u001b[0m \u001b[0minstall_opener\u001b[0m\u001b[0;34m(\u001b[0m\u001b[0mopener\u001b[0m\u001b[0;34m)\u001b[0m\u001b[0;34m:\u001b[0m\u001b[0;34m\u001b[0m\u001b[0;34m\u001b[0m\u001b[0m\n",
      "\u001b[0;32m~/anaconda3/envs/books/lib/python3.6/urllib/request.py\u001b[0m in \u001b[0;36mopen\u001b[0;34m(self, fullurl, data, timeout)\u001b[0m\n\u001b[1;32m    524\u001b[0m             \u001b[0mreq\u001b[0m \u001b[0;34m=\u001b[0m \u001b[0mmeth\u001b[0m\u001b[0;34m(\u001b[0m\u001b[0mreq\u001b[0m\u001b[0;34m)\u001b[0m\u001b[0;34m\u001b[0m\u001b[0;34m\u001b[0m\u001b[0m\n\u001b[1;32m    525\u001b[0m \u001b[0;34m\u001b[0m\u001b[0m\n\u001b[0;32m--> 526\u001b[0;31m         \u001b[0mresponse\u001b[0m \u001b[0;34m=\u001b[0m \u001b[0mself\u001b[0m\u001b[0;34m.\u001b[0m\u001b[0m_open\u001b[0m\u001b[0;34m(\u001b[0m\u001b[0mreq\u001b[0m\u001b[0;34m,\u001b[0m \u001b[0mdata\u001b[0m\u001b[0;34m)\u001b[0m\u001b[0;34m\u001b[0m\u001b[0;34m\u001b[0m\u001b[0m\n\u001b[0m\u001b[1;32m    527\u001b[0m \u001b[0;34m\u001b[0m\u001b[0m\n\u001b[1;32m    528\u001b[0m         \u001b[0;31m# post-process response\u001b[0m\u001b[0;34m\u001b[0m\u001b[0;34m\u001b[0m\u001b[0;34m\u001b[0m\u001b[0m\n",
      "\u001b[0;32m~/anaconda3/envs/books/lib/python3.6/urllib/request.py\u001b[0m in \u001b[0;36m_open\u001b[0;34m(self, req, data)\u001b[0m\n\u001b[1;32m    542\u001b[0m         \u001b[0mprotocol\u001b[0m \u001b[0;34m=\u001b[0m \u001b[0mreq\u001b[0m\u001b[0;34m.\u001b[0m\u001b[0mtype\u001b[0m\u001b[0;34m\u001b[0m\u001b[0;34m\u001b[0m\u001b[0m\n\u001b[1;32m    543\u001b[0m         result = self._call_chain(self.handle_open, protocol, protocol +\n\u001b[0;32m--> 544\u001b[0;31m                                   '_open', req)\n\u001b[0m\u001b[1;32m    545\u001b[0m         \u001b[0;32mif\u001b[0m \u001b[0mresult\u001b[0m\u001b[0;34m:\u001b[0m\u001b[0;34m\u001b[0m\u001b[0;34m\u001b[0m\u001b[0m\n\u001b[1;32m    546\u001b[0m             \u001b[0;32mreturn\u001b[0m \u001b[0mresult\u001b[0m\u001b[0;34m\u001b[0m\u001b[0;34m\u001b[0m\u001b[0m\n",
      "\u001b[0;32m~/anaconda3/envs/books/lib/python3.6/urllib/request.py\u001b[0m in \u001b[0;36m_call_chain\u001b[0;34m(self, chain, kind, meth_name, *args)\u001b[0m\n\u001b[1;32m    502\u001b[0m         \u001b[0;32mfor\u001b[0m \u001b[0mhandler\u001b[0m \u001b[0;32min\u001b[0m \u001b[0mhandlers\u001b[0m\u001b[0;34m:\u001b[0m\u001b[0;34m\u001b[0m\u001b[0;34m\u001b[0m\u001b[0m\n\u001b[1;32m    503\u001b[0m             \u001b[0mfunc\u001b[0m \u001b[0;34m=\u001b[0m \u001b[0mgetattr\u001b[0m\u001b[0;34m(\u001b[0m\u001b[0mhandler\u001b[0m\u001b[0;34m,\u001b[0m \u001b[0mmeth_name\u001b[0m\u001b[0;34m)\u001b[0m\u001b[0;34m\u001b[0m\u001b[0;34m\u001b[0m\u001b[0m\n\u001b[0;32m--> 504\u001b[0;31m             \u001b[0mresult\u001b[0m \u001b[0;34m=\u001b[0m \u001b[0mfunc\u001b[0m\u001b[0;34m(\u001b[0m\u001b[0;34m*\u001b[0m\u001b[0margs\u001b[0m\u001b[0;34m)\u001b[0m\u001b[0;34m\u001b[0m\u001b[0;34m\u001b[0m\u001b[0m\n\u001b[0m\u001b[1;32m    505\u001b[0m             \u001b[0;32mif\u001b[0m \u001b[0mresult\u001b[0m \u001b[0;32mis\u001b[0m \u001b[0;32mnot\u001b[0m \u001b[0;32mNone\u001b[0m\u001b[0;34m:\u001b[0m\u001b[0;34m\u001b[0m\u001b[0;34m\u001b[0m\u001b[0m\n\u001b[1;32m    506\u001b[0m                 \u001b[0;32mreturn\u001b[0m \u001b[0mresult\u001b[0m\u001b[0;34m\u001b[0m\u001b[0;34m\u001b[0m\u001b[0m\n",
      "\u001b[0;32m~/anaconda3/envs/books/lib/python3.6/urllib/request.py\u001b[0m in \u001b[0;36mhttps_open\u001b[0;34m(self, req)\u001b[0m\n\u001b[1;32m   1359\u001b[0m         \u001b[0;32mdef\u001b[0m \u001b[0mhttps_open\u001b[0m\u001b[0;34m(\u001b[0m\u001b[0mself\u001b[0m\u001b[0;34m,\u001b[0m \u001b[0mreq\u001b[0m\u001b[0;34m)\u001b[0m\u001b[0;34m:\u001b[0m\u001b[0;34m\u001b[0m\u001b[0;34m\u001b[0m\u001b[0m\n\u001b[1;32m   1360\u001b[0m             return self.do_open(http.client.HTTPSConnection, req,\n\u001b[0;32m-> 1361\u001b[0;31m                 context=self._context, check_hostname=self._check_hostname)\n\u001b[0m\u001b[1;32m   1362\u001b[0m \u001b[0;34m\u001b[0m\u001b[0m\n\u001b[1;32m   1363\u001b[0m         \u001b[0mhttps_request\u001b[0m \u001b[0;34m=\u001b[0m \u001b[0mAbstractHTTPHandler\u001b[0m\u001b[0;34m.\u001b[0m\u001b[0mdo_request_\u001b[0m\u001b[0;34m\u001b[0m\u001b[0;34m\u001b[0m\u001b[0m\n",
      "\u001b[0;32m~/anaconda3/envs/books/lib/python3.6/urllib/request.py\u001b[0m in \u001b[0;36mdo_open\u001b[0;34m(self, http_class, req, **http_conn_args)\u001b[0m\n\u001b[1;32m   1319\u001b[0m             \u001b[0;32mexcept\u001b[0m \u001b[0mOSError\u001b[0m \u001b[0;32mas\u001b[0m \u001b[0merr\u001b[0m\u001b[0;34m:\u001b[0m \u001b[0;31m# timeout error\u001b[0m\u001b[0;34m\u001b[0m\u001b[0;34m\u001b[0m\u001b[0m\n\u001b[1;32m   1320\u001b[0m                 \u001b[0;32mraise\u001b[0m \u001b[0mURLError\u001b[0m\u001b[0;34m(\u001b[0m\u001b[0merr\u001b[0m\u001b[0;34m)\u001b[0m\u001b[0;34m\u001b[0m\u001b[0;34m\u001b[0m\u001b[0m\n\u001b[0;32m-> 1321\u001b[0;31m             \u001b[0mr\u001b[0m \u001b[0;34m=\u001b[0m \u001b[0mh\u001b[0m\u001b[0;34m.\u001b[0m\u001b[0mgetresponse\u001b[0m\u001b[0;34m(\u001b[0m\u001b[0;34m)\u001b[0m\u001b[0;34m\u001b[0m\u001b[0;34m\u001b[0m\u001b[0m\n\u001b[0m\u001b[1;32m   1322\u001b[0m         \u001b[0;32mexcept\u001b[0m\u001b[0;34m:\u001b[0m\u001b[0;34m\u001b[0m\u001b[0;34m\u001b[0m\u001b[0m\n\u001b[1;32m   1323\u001b[0m             \u001b[0mh\u001b[0m\u001b[0;34m.\u001b[0m\u001b[0mclose\u001b[0m\u001b[0;34m(\u001b[0m\u001b[0;34m)\u001b[0m\u001b[0;34m\u001b[0m\u001b[0;34m\u001b[0m\u001b[0m\n",
      "\u001b[0;32m~/anaconda3/envs/books/lib/python3.6/http/client.py\u001b[0m in \u001b[0;36mgetresponse\u001b[0;34m(self)\u001b[0m\n\u001b[1;32m   1329\u001b[0m         \u001b[0;32mtry\u001b[0m\u001b[0;34m:\u001b[0m\u001b[0;34m\u001b[0m\u001b[0;34m\u001b[0m\u001b[0m\n\u001b[1;32m   1330\u001b[0m             \u001b[0;32mtry\u001b[0m\u001b[0;34m:\u001b[0m\u001b[0;34m\u001b[0m\u001b[0;34m\u001b[0m\u001b[0m\n\u001b[0;32m-> 1331\u001b[0;31m                 \u001b[0mresponse\u001b[0m\u001b[0;34m.\u001b[0m\u001b[0mbegin\u001b[0m\u001b[0;34m(\u001b[0m\u001b[0;34m)\u001b[0m\u001b[0;34m\u001b[0m\u001b[0;34m\u001b[0m\u001b[0m\n\u001b[0m\u001b[1;32m   1332\u001b[0m             \u001b[0;32mexcept\u001b[0m \u001b[0mConnectionError\u001b[0m\u001b[0;34m:\u001b[0m\u001b[0;34m\u001b[0m\u001b[0;34m\u001b[0m\u001b[0m\n\u001b[1;32m   1333\u001b[0m                 \u001b[0mself\u001b[0m\u001b[0;34m.\u001b[0m\u001b[0mclose\u001b[0m\u001b[0;34m(\u001b[0m\u001b[0;34m)\u001b[0m\u001b[0;34m\u001b[0m\u001b[0;34m\u001b[0m\u001b[0m\n",
      "\u001b[0;32m~/anaconda3/envs/books/lib/python3.6/http/client.py\u001b[0m in \u001b[0;36mbegin\u001b[0;34m(self)\u001b[0m\n\u001b[1;32m    295\u001b[0m         \u001b[0;31m# read until we get a non-100 response\u001b[0m\u001b[0;34m\u001b[0m\u001b[0;34m\u001b[0m\u001b[0;34m\u001b[0m\u001b[0m\n\u001b[1;32m    296\u001b[0m         \u001b[0;32mwhile\u001b[0m \u001b[0;32mTrue\u001b[0m\u001b[0;34m:\u001b[0m\u001b[0;34m\u001b[0m\u001b[0;34m\u001b[0m\u001b[0m\n\u001b[0;32m--> 297\u001b[0;31m             \u001b[0mversion\u001b[0m\u001b[0;34m,\u001b[0m \u001b[0mstatus\u001b[0m\u001b[0;34m,\u001b[0m \u001b[0mreason\u001b[0m \u001b[0;34m=\u001b[0m \u001b[0mself\u001b[0m\u001b[0;34m.\u001b[0m\u001b[0m_read_status\u001b[0m\u001b[0;34m(\u001b[0m\u001b[0;34m)\u001b[0m\u001b[0;34m\u001b[0m\u001b[0;34m\u001b[0m\u001b[0m\n\u001b[0m\u001b[1;32m    298\u001b[0m             \u001b[0;32mif\u001b[0m \u001b[0mstatus\u001b[0m \u001b[0;34m!=\u001b[0m \u001b[0mCONTINUE\u001b[0m\u001b[0;34m:\u001b[0m\u001b[0;34m\u001b[0m\u001b[0;34m\u001b[0m\u001b[0m\n\u001b[1;32m    299\u001b[0m                 \u001b[0;32mbreak\u001b[0m\u001b[0;34m\u001b[0m\u001b[0;34m\u001b[0m\u001b[0m\n",
      "\u001b[0;32m~/anaconda3/envs/books/lib/python3.6/http/client.py\u001b[0m in \u001b[0;36m_read_status\u001b[0;34m(self)\u001b[0m\n\u001b[1;32m    256\u001b[0m \u001b[0;34m\u001b[0m\u001b[0m\n\u001b[1;32m    257\u001b[0m     \u001b[0;32mdef\u001b[0m \u001b[0m_read_status\u001b[0m\u001b[0;34m(\u001b[0m\u001b[0mself\u001b[0m\u001b[0;34m)\u001b[0m\u001b[0;34m:\u001b[0m\u001b[0;34m\u001b[0m\u001b[0;34m\u001b[0m\u001b[0m\n\u001b[0;32m--> 258\u001b[0;31m         \u001b[0mline\u001b[0m \u001b[0;34m=\u001b[0m \u001b[0mstr\u001b[0m\u001b[0;34m(\u001b[0m\u001b[0mself\u001b[0m\u001b[0;34m.\u001b[0m\u001b[0mfp\u001b[0m\u001b[0;34m.\u001b[0m\u001b[0mreadline\u001b[0m\u001b[0;34m(\u001b[0m\u001b[0m_MAXLINE\u001b[0m \u001b[0;34m+\u001b[0m \u001b[0;36m1\u001b[0m\u001b[0;34m)\u001b[0m\u001b[0;34m,\u001b[0m \u001b[0;34m\"iso-8859-1\"\u001b[0m\u001b[0;34m)\u001b[0m\u001b[0;34m\u001b[0m\u001b[0;34m\u001b[0m\u001b[0m\n\u001b[0m\u001b[1;32m    259\u001b[0m         \u001b[0;32mif\u001b[0m \u001b[0mlen\u001b[0m\u001b[0;34m(\u001b[0m\u001b[0mline\u001b[0m\u001b[0;34m)\u001b[0m \u001b[0;34m>\u001b[0m \u001b[0m_MAXLINE\u001b[0m\u001b[0;34m:\u001b[0m\u001b[0;34m\u001b[0m\u001b[0;34m\u001b[0m\u001b[0m\n\u001b[1;32m    260\u001b[0m             \u001b[0;32mraise\u001b[0m \u001b[0mLineTooLong\u001b[0m\u001b[0;34m(\u001b[0m\u001b[0;34m\"status line\"\u001b[0m\u001b[0;34m)\u001b[0m\u001b[0;34m\u001b[0m\u001b[0;34m\u001b[0m\u001b[0m\n",
      "\u001b[0;32m~/anaconda3/envs/books/lib/python3.6/socket.py\u001b[0m in \u001b[0;36mreadinto\u001b[0;34m(self, b)\u001b[0m\n\u001b[1;32m    584\u001b[0m         \u001b[0;32mwhile\u001b[0m \u001b[0;32mTrue\u001b[0m\u001b[0;34m:\u001b[0m\u001b[0;34m\u001b[0m\u001b[0;34m\u001b[0m\u001b[0m\n\u001b[1;32m    585\u001b[0m             \u001b[0;32mtry\u001b[0m\u001b[0;34m:\u001b[0m\u001b[0;34m\u001b[0m\u001b[0;34m\u001b[0m\u001b[0m\n\u001b[0;32m--> 586\u001b[0;31m                 \u001b[0;32mreturn\u001b[0m \u001b[0mself\u001b[0m\u001b[0;34m.\u001b[0m\u001b[0m_sock\u001b[0m\u001b[0;34m.\u001b[0m\u001b[0mrecv_into\u001b[0m\u001b[0;34m(\u001b[0m\u001b[0mb\u001b[0m\u001b[0;34m)\u001b[0m\u001b[0;34m\u001b[0m\u001b[0;34m\u001b[0m\u001b[0m\n\u001b[0m\u001b[1;32m    587\u001b[0m             \u001b[0;32mexcept\u001b[0m \u001b[0mtimeout\u001b[0m\u001b[0;34m:\u001b[0m\u001b[0;34m\u001b[0m\u001b[0;34m\u001b[0m\u001b[0m\n\u001b[1;32m    588\u001b[0m                 \u001b[0mself\u001b[0m\u001b[0;34m.\u001b[0m\u001b[0m_timeout_occurred\u001b[0m \u001b[0;34m=\u001b[0m \u001b[0;32mTrue\u001b[0m\u001b[0;34m\u001b[0m\u001b[0;34m\u001b[0m\u001b[0m\n",
      "\u001b[0;32m~/anaconda3/envs/books/lib/python3.6/ssl.py\u001b[0m in \u001b[0;36mrecv_into\u001b[0;34m(self, buffer, nbytes, flags)\u001b[0m\n\u001b[1;32m   1010\u001b[0m                   \u001b[0;34m\"non-zero flags not allowed in calls to recv_into() on %s\"\u001b[0m \u001b[0;34m%\u001b[0m\u001b[0;34m\u001b[0m\u001b[0;34m\u001b[0m\u001b[0m\n\u001b[1;32m   1011\u001b[0m                   self.__class__)\n\u001b[0;32m-> 1012\u001b[0;31m             \u001b[0;32mreturn\u001b[0m \u001b[0mself\u001b[0m\u001b[0;34m.\u001b[0m\u001b[0mread\u001b[0m\u001b[0;34m(\u001b[0m\u001b[0mnbytes\u001b[0m\u001b[0;34m,\u001b[0m \u001b[0mbuffer\u001b[0m\u001b[0;34m)\u001b[0m\u001b[0;34m\u001b[0m\u001b[0;34m\u001b[0m\u001b[0m\n\u001b[0m\u001b[1;32m   1013\u001b[0m         \u001b[0;32melse\u001b[0m\u001b[0;34m:\u001b[0m\u001b[0;34m\u001b[0m\u001b[0;34m\u001b[0m\u001b[0m\n\u001b[1;32m   1014\u001b[0m             \u001b[0;32mreturn\u001b[0m \u001b[0msocket\u001b[0m\u001b[0;34m.\u001b[0m\u001b[0mrecv_into\u001b[0m\u001b[0;34m(\u001b[0m\u001b[0mself\u001b[0m\u001b[0;34m,\u001b[0m \u001b[0mbuffer\u001b[0m\u001b[0;34m,\u001b[0m \u001b[0mnbytes\u001b[0m\u001b[0;34m,\u001b[0m \u001b[0mflags\u001b[0m\u001b[0;34m)\u001b[0m\u001b[0;34m\u001b[0m\u001b[0;34m\u001b[0m\u001b[0m\n",
      "\u001b[0;32m~/anaconda3/envs/books/lib/python3.6/ssl.py\u001b[0m in \u001b[0;36mread\u001b[0;34m(self, len, buffer)\u001b[0m\n\u001b[1;32m    872\u001b[0m             \u001b[0;32mraise\u001b[0m \u001b[0mValueError\u001b[0m\u001b[0;34m(\u001b[0m\u001b[0;34m\"Read on closed or unwrapped SSL socket.\"\u001b[0m\u001b[0;34m)\u001b[0m\u001b[0;34m\u001b[0m\u001b[0;34m\u001b[0m\u001b[0m\n\u001b[1;32m    873\u001b[0m         \u001b[0;32mtry\u001b[0m\u001b[0;34m:\u001b[0m\u001b[0;34m\u001b[0m\u001b[0;34m\u001b[0m\u001b[0m\n\u001b[0;32m--> 874\u001b[0;31m             \u001b[0;32mreturn\u001b[0m \u001b[0mself\u001b[0m\u001b[0;34m.\u001b[0m\u001b[0m_sslobj\u001b[0m\u001b[0;34m.\u001b[0m\u001b[0mread\u001b[0m\u001b[0;34m(\u001b[0m\u001b[0mlen\u001b[0m\u001b[0;34m,\u001b[0m \u001b[0mbuffer\u001b[0m\u001b[0;34m)\u001b[0m\u001b[0;34m\u001b[0m\u001b[0;34m\u001b[0m\u001b[0m\n\u001b[0m\u001b[1;32m    875\u001b[0m         \u001b[0;32mexcept\u001b[0m \u001b[0mSSLError\u001b[0m \u001b[0;32mas\u001b[0m \u001b[0mx\u001b[0m\u001b[0;34m:\u001b[0m\u001b[0;34m\u001b[0m\u001b[0;34m\u001b[0m\u001b[0m\n\u001b[1;32m    876\u001b[0m             \u001b[0;32mif\u001b[0m \u001b[0mx\u001b[0m\u001b[0;34m.\u001b[0m\u001b[0margs\u001b[0m\u001b[0;34m[\u001b[0m\u001b[0;36m0\u001b[0m\u001b[0;34m]\u001b[0m \u001b[0;34m==\u001b[0m \u001b[0mSSL_ERROR_EOF\u001b[0m \u001b[0;32mand\u001b[0m \u001b[0mself\u001b[0m\u001b[0;34m.\u001b[0m\u001b[0msuppress_ragged_eofs\u001b[0m\u001b[0;34m:\u001b[0m\u001b[0;34m\u001b[0m\u001b[0;34m\u001b[0m\u001b[0m\n",
      "\u001b[0;32m~/anaconda3/envs/books/lib/python3.6/ssl.py\u001b[0m in \u001b[0;36mread\u001b[0;34m(self, len, buffer)\u001b[0m\n\u001b[1;32m    629\u001b[0m         \"\"\"\n\u001b[1;32m    630\u001b[0m         \u001b[0;32mif\u001b[0m \u001b[0mbuffer\u001b[0m \u001b[0;32mis\u001b[0m \u001b[0;32mnot\u001b[0m \u001b[0;32mNone\u001b[0m\u001b[0;34m:\u001b[0m\u001b[0;34m\u001b[0m\u001b[0;34m\u001b[0m\u001b[0m\n\u001b[0;32m--> 631\u001b[0;31m             \u001b[0mv\u001b[0m \u001b[0;34m=\u001b[0m \u001b[0mself\u001b[0m\u001b[0;34m.\u001b[0m\u001b[0m_sslobj\u001b[0m\u001b[0;34m.\u001b[0m\u001b[0mread\u001b[0m\u001b[0;34m(\u001b[0m\u001b[0mlen\u001b[0m\u001b[0;34m,\u001b[0m \u001b[0mbuffer\u001b[0m\u001b[0;34m)\u001b[0m\u001b[0;34m\u001b[0m\u001b[0;34m\u001b[0m\u001b[0m\n\u001b[0m\u001b[1;32m    632\u001b[0m         \u001b[0;32melse\u001b[0m\u001b[0;34m:\u001b[0m\u001b[0;34m\u001b[0m\u001b[0;34m\u001b[0m\u001b[0m\n\u001b[1;32m    633\u001b[0m             \u001b[0mv\u001b[0m \u001b[0;34m=\u001b[0m \u001b[0mself\u001b[0m\u001b[0;34m.\u001b[0m\u001b[0m_sslobj\u001b[0m\u001b[0;34m.\u001b[0m\u001b[0mread\u001b[0m\u001b[0;34m(\u001b[0m\u001b[0mlen\u001b[0m\u001b[0;34m)\u001b[0m\u001b[0;34m\u001b[0m\u001b[0;34m\u001b[0m\u001b[0m\n",
      "\u001b[0;31mKeyboardInterrupt\u001b[0m: "
     ]
    }
   ],
   "source": [
    "# loop through all the users and get all their reviews\n",
    "\n",
    "final_book_ratings = []\n",
    "for final_user_url in final_user_urls:\n",
    "    #print(reviews_url)\n",
    "    final_book_ratings.append(get_book_ratings(final_user_url))"
   ]
  },
  {
   "cell_type": "code",
   "execution_count": 372,
   "metadata": {},
   "outputs": [
    {
     "data": {
      "text/plain": [
       "33"
      ]
     },
     "execution_count": 372,
     "metadata": {},
     "output_type": "execute_result"
    }
   ],
   "source": [
    "# should be 3000\n",
    "len(final_book_ratings)\n"
   ]
  },
  {
   "cell_type": "code",
   "execution_count": 375,
   "metadata": {},
   "outputs": [
    {
     "data": {
      "text/plain": [
       "22"
      ]
     },
     "execution_count": 375,
     "metadata": {},
     "output_type": "execute_result"
    }
   ],
   "source": [
    "len(final_book_ratings[-1])"
   ]
  },
  {
   "cell_type": "code",
   "execution_count": 349,
   "metadata": {},
   "outputs": [
    {
     "data": {
      "text/plain": [
       "18"
      ]
     },
     "execution_count": 349,
     "metadata": {},
     "output_type": "execute_result"
    }
   ],
   "source": [
    "# this is the first person\n",
    "len(test_ratings[0][0])"
   ]
  },
  {
   "cell_type": "code",
   "execution_count": 354,
   "metadata": {},
   "outputs": [
    {
     "data": {
      "text/plain": [
       "30"
      ]
     },
     "execution_count": 354,
     "metadata": {},
     "output_type": "execute_result"
    }
   ],
   "source": [
    "# this is the second person\n",
    "len(test_ratings[1][0])"
   ]
  },
  {
   "cell_type": "code",
   "execution_count": 358,
   "metadata": {},
   "outputs": [
    {
     "data": {
      "text/plain": [
       "2"
      ]
     },
     "execution_count": 358,
     "metadata": {},
     "output_type": "execute_result"
    }
   ],
   "source": [
    "len(test_ratings)"
   ]
  },
  {
   "cell_type": "code",
   "execution_count": 367,
   "metadata": {},
   "outputs": [],
   "source": [
    "\n",
    "test_users = []\n",
    "for usr in user_url_list:\n",
    "    #print(reviews_url)\n",
    "    test_users.append(get_book_ratings(usr))"
   ]
  },
  {
   "cell_type": "code",
   "execution_count": 368,
   "metadata": {},
   "outputs": [
    {
     "data": {
      "text/plain": [
       "3"
      ]
     },
     "execution_count": 368,
     "metadata": {},
     "output_type": "execute_result"
    }
   ],
   "source": [
    "len(test_users)"
   ]
  },
  {
   "cell_type": "code",
   "execution_count": 369,
   "metadata": {},
   "outputs": [
    {
     "data": {
      "text/plain": [
       "[[[['3.79', 'None', '/book/show/36073261-colors-in-the-dark'],\n",
       "   ['4.12',\n",
       "    'If you like reading Dark Fantasy, then you will love this compelling story of Enden, a world of Lords and Kings, Dwarfs and Knights. In book 1 of this\\nIf you like reading Dark Fantasy, then you will love this compelling story of Enden, a world of Lords and Kings, Dwarfs and Knights. In book 1 of this series, the dwarf-human nation of Ormdel, and the nations of Byrum, Oldon, and Kelorman all join forces in a war against the invasive Barbarians intent on destroying the villages and kingdoms in their path. The hero is a young man named Jonathan who is ripped from a normal peasant life and taken under the care of his mentor, Sir Richard, who transforms him into a valiant warrior.I’m not a reader of Fantasy, but I found this story to be an exception. The characters are so realistic; and the fight scenes are vivid and well described as they try to end the evil that threatens life as they know it. I find Enden to be a well-written book created by a very talented author. I highly recommend this book as well as all of his books.\\n...more',\n",
       "    '/book/show/33311446-enden'],\n",
       "   ['3.13', 'None', '/book/show/24505346-as-my-wife'],\n",
       "   ['3.38', 'None', '/book/show/17673589-invitation-to-love'],\n",
       "   ['3.75', 'None', '/book/show/18368798-under-the-harvest-moon'],\n",
       "   ['4.00',\n",
       "    \"I love the old classic mummy movies featuring Boris Karloff. And that's what inspired me to write A Body Resurrected. It's a mixture of Suspense and R\\nI love the old classic mummy movies featuring Boris Karloff. And that's what inspired me to write A Body Resurrected. It's a mixture of Suspense and Romance with a bit of Sci-Fi added that takes place in two time periods.\\n...more\",\n",
       "    '/book/show/41568071-a-body-resurrected'],\n",
       "   ['4.06',\n",
       "    \"The idea for this book came out of the simple fact that I'm a BIG Prince fan, in fact, I'm his number one fan! So, the story of 'Cause She's A Good Gi\\nThe idea for this book came out of the simple fact that I'm a BIG Prince fan, in fact, I'm his number one fan! So, the story of 'Cause She's A Good Girl grew from my admiration of his beauty and talent. One of the main characters, Oz Jamison, was modeled after him, and that's one of the reasons the story came to life. Author Dean Kootnz also inspired this book.\\n...more\",\n",
       "    '/book/show/35388144-cause-she-s-a-good-girl'],\n",
       "   ['4.00',\n",
       "    \"Pandora is an engaging horror novel written by a talented author, Joshua Grant. His detail to character descriptions and surroundings makes it all viv\\nPandora is an engaging horror novel written by a talented author, Joshua Grant. His detail to character descriptions and surroundings makes it all vividly real. A cruise ship named the Emerald Rose has disappeared with all the vacationers aboard it. When it mysteriously reappears, there's nothing left but an evil creature named Watcher. A team is assembled to retrieve the ship and find out what happened. But of all the members that board it to find out, how many will survive? It should be made into a movie.\\n...more\",\n",
       "    '/book/show/32587144-pandora'],\n",
       "   ['4.07',\n",
       "    \"She: A Horror Novel is about the dark secret of a small town no one believes, or takes notice of--until it happens to four friends. This is a story of\\nShe: A Horror Novel is about the dark secret of a small town no one believes, or takes notice of--until it happens to four friends. This is a story of enduring friendship and courage as four teenagers set out on a quest to try and defeat the being that threatens to destroy their families. I recommend this story to horror readers, and anyone who can identify with being young and having to solve life's serious problems on their own.\\n...more\",\n",
       "    '/book/show/29214174-she'],\n",
       "   ['3.22',\n",
       "    \"This is a short story that does not leave you wondering in the end. First, it's about three roommates who are stalked by a vengeful psycho bent on kil\\nThis is a short story that does not leave you wondering in the end. First, it's about three roommates who are stalked by a vengeful psycho bent on killing all of them. And second, it's also a well-written thriller with a moral to it: Do not judge your neighbor until you first get to know them.\\n...more\",\n",
       "    '/book/show/33626307-obsessed'],\n",
       "   ['3.67', 'None', '/book/show/17283332-hide-in-time'],\n",
       "   ['4.16',\n",
       "    \"This is a cozy mystery narrated from the viewpoint of an eleven-year old (soon to be twelve) girl. After reading this book, I've come to two conclusio\\nThis is a cozy mystery narrated from the viewpoint of an eleven-year old (soon to be twelve) girl. After reading this book, I've come to two conclusions--I'm not into cozy mysteries. So, why did I give it a three-star instead of two or one? Because even though I might not have been able to get into it, I know other readers who like this genre will. First let me say, the writing is unique and superb. The way this author describes sounds and the atmosphere around you is unique in his own way, and that makes the story so vivid and alive. I really liked that part. His characters are so realistic; and it's a clean novel. If this author wrote suspense, I would definitely buy more of his books. But the story just didn't hold my attention. And the second conclusion is, I don't like stories told in first person; even though he kept the point-of-view to one character and not every one in the book, is a plus.If you like cozy mysteries, you'll like this book.\\n...more\",\n",
       "    '/book/show/17834904-the-dead-in-their-vaulted-arches'],\n",
       "   ['4.30',\n",
       "    \"If you enjoy the Metaphysical genre, then you will enjoy Last 90 Days. The main characters are colorful and believable; and if you love dogs, you will\\nIf you enjoy the Metaphysical genre, then you will enjoy Last 90 Days. The main characters are colorful and believable; and if you love dogs, you will certainly love the three adorable ones that play a pivotal part in helping Shelton as he tries to live life to the fullest for the time he has left. I gave it 3 stars because although I'm not a fan of this genre, I believe those who are will really enjoy it. The writer did a good job in creating this story. \\n...more\",\n",
       "    '/book/show/26526474-last-90-days'],\n",
       "   ['3.79',\n",
       "    \"I was excited to purchase this book by the well-known author, Agatha Christie. The Agatha Christie series on PBS are my favorite to watch, so I though\\nI was excited to purchase this book by the well-known author, Agatha Christie. The Agatha Christie series on PBS are my favorite to watch, so I thought it would make an even better read because they always say, the books are much better—not always. Although it is not her fault, the formatting of this book is terrible. One moment you think different characters are speaking, when in actuality, it’s only one. That can be so confusing! This is a cozy mystery which tends to go on and on with a lot of dialogue. And that’s what this storyline consists mostly of, lots and lots of conversation; very little action and description of settings and scenes; and you're constantly whiplashed from one place to the next. Instead of one or two point of views, you get the point of view of every character in this book, and they all are thinking the same thing. So besides point-of-view overkill, it gets rather repetitive and boring. And the characters read like lifeless cardboards. I felt nothing for any of them. I didn’t care who did it, or if they lived or died, or went off to a happy-ever-after.I was really disappointed given the status of Miss Christie. So I’ll just stick to her television series which are way better than the books.\\n...more\",\n",
       "    '/book/show/909932.Ordeal_by_Innocence'],\n",
       "   ['3.05',\n",
       "    \"I liked the cover of this book, and the blurb sounded interesting. But that's where it ends. There were a few grammatical errors that could be overloo\\nI liked the cover of this book, and the blurb sounded interesting. But that's where it ends. There were a few grammatical errors that could be overlooked. I usually try to finish a book whether I like it or not, but I couldn't take it anymore and flipped through all the way to the end.\\n...more\",\n",
       "    '/book/show/30624057-the-french-wardrobe'],\n",
       "   ['4.09',\n",
       "    'This book was more delusional facts than anything; add to that, sappy dialogue and a bit of boredom. Mayte weaves a story of unconditional love and a\\nThis book was more delusional facts than anything; add to that, sappy dialogue and a bit of boredom. Mayte weaves a story of unconditional love and a special relationship between two people that were made for one another, but sadly it was mostly on her part. Prince controlled her every waking moment (he said, \"jump\" and she jumped high, people), cheated on her with other women, and in the end would not give her the time of day. She finally got tired of the cheating and found enough dignity to divorce him. He never looked back, although she kept hoping he would.\\n...more',\n",
       "    '/book/show/32052074-the-most-beautiful'],\n",
       "   ['4.29', 'None', '/book/show/34948946-cold-murder-dark-secrets'],\n",
       "   ['4.06', 'None', '/book/show/22377797-cause-she-s-a-good-girl']],\n",
       "  []],\n",
       " [[['4.08',\n",
       "    'A must read for all those who are interested in time management and in becoming more effective in their work and in their lives. This book guided me i\\nA must read for all those who are interested in time management and in becoming more effective in their work and in their lives. This book guided me in writing the second part of Missing Links which is dedicated to Personal Re-Organization (PRO). Extremely inspiring and very practical.\\n...more',\n",
       "    '/book/show/36072.The_7_Habits_of_Highly_Effective_People'],\n",
       "   ['3.88', 'None', '/book/show/4443.The_Different_Drum'],\n",
       "   ['3.98',\n",
       "    'There are some people who have great difficulty dealing with evil in their life. Some people even prefer to deny that there is such a thing as evil. M\\nThere are some people who have great difficulty dealing with evil in their life. Some people even prefer to deny that there is such a thing as evil. M. Scott Peck states clearly that: “... we are all in combat against evil.” This book has helped me an awful lot to deal with evil. When faced with evil I used to become very angry. I used to have great difficulty dealing with anger. This book deals with many aspects of evil in ways that I find very helpful and practical. M. Scott Peck utilizes several actual case studies to illustrate his points. He also deals with such subjects as: Possession and exorcism. An examination of group evil. As well as the dangers presented by evil, in its many form. He makes me feel that there may be real hope to overcome evil in our lives.\\n...more',\n",
       "    '/book/show/4451.People_of_the_Lie'],\n",
       "   ['4.07', 'None', '/book/show/7371.Further_Along_the_Road_Less_Traveled'],\n",
       "   ['3.97', 'None', '/book/show/12124.Homecoming'],\n",
       "   ['4.04',\n",
       "    'Exxxteeemely helpful!',\n",
       "    '/book/show/46676.When_Bad_Things_Happen_to_Good_People'],\n",
       "   ['4.11', 'None', '/book/show/98399.Healing_the_Shame_that_Binds_You'],\n",
       "   ['4.32',\n",
       "    'William Blake is one of the poets that has most influenced the Mytho-poetic movement to which I consider myself to be a member. He is very famous for\\nWilliam Blake is one of the poets that has most influenced the Mytho-poetic movement to which I consider myself to be a member. He is very famous for his: Proverbs from Hell. His poetry, his ideas and his vision are driven by what we now know as: \"Crazy Wisdom.\" A must read for anybody who like to think \"Outside the Box\" and who is willing to go beyond ...!\\n...more',\n",
       "    '/book/show/131871.The_Portable_Blake'],\n",
       "   ['4.55', 'None', '/book/show/22478742-missing-links'],\n",
       "   ['4.22', 'None', '/book/show/196572.The_Adventure_of_Self_Discovery'],\n",
       "   ['3.72',\n",
       "    'Most of us are familiar and we have probably utilized the following strategy at least sometimes:\"Hope for the best and prepare for the worst!\" This bo\\nMost of us are familiar and we have probably utilized the following strategy at least sometimes:\"Hope for the best and prepare for the worst!\" This book deals with one of my favorite paradoxes.On the one hand, I consider myself to be a very optimistic person. On the other hand I like to be realistic and prudent and I do want to be ready for the worst ... just in case. This book has been extremely validating and empowering for me because it has helped me to overcome any guilt that I may have felt about not feeling obliged to always think positively. This book also deals with it the following paradox in Chapter 7. No Size Fits All: Different Folks, Different Strategies. This book totally complements and reinforces what I have myself written about paradox in Missing Links in Chapter 3. I strongly recommend it!\\n...more',\n",
       "    '/book/show/206028.The_Positive_Power_Of_Negative_Thinking'],\n",
       "   ['4.11', 'None', '/book/show/223513.Bradshaw_on_the_Family'],\n",
       "   ['4.08',\n",
       "    'This book has been guiding me ever since I first read it.  This is what I wrote about it in: Missing Links, page 5:One of the best ways to get started\\nThis book has been guiding me ever since I first read it. \\t\\t\\t\\tThis is what I wrote about it in: Missing Links, page 5:One of the best ways to get started along the road of self-transformation and behavior modification is to learn to minimize excess pressure and to welcome more pleasure into our lives. Instead of pushing ourselvesto do more and more, why not try to “let go” a little bit and take some time to “smell the roses along the way.” What good is all the money and power if we can never feel satisfied? Why not try to accept a little bit less “success,” and learn to enjoy a little more “happiness” instead? One of the books that has made a huge difference in my life is one of Harold Kushner’s best-sellers:When All You’ve Ever Wanted Isn’t Enough\\n...more',\n",
       "    '/book/show/232553.When_All_You_ve_Ever_Wanted_Isn_t_Enough'],\n",
       "   ['4.24',\n",
       "    'They are the ones who have shown us the right path to practical and truly beneficial spirituality!',\n",
       "    '/book/show/236777.The_Metaphysical_Poets'],\n",
       "   ['4.04',\n",
       "    'This book changed my life!',\n",
       "    '/book/show/331046.The_Continuum_Concept'],\n",
       "   ['4.14', 'None', '/book/show/18487112-100-steps-to-a-lean-body'],\n",
       "   ['4.26',\n",
       "    'Melody Beatty makes it clear that there are many definitions of codependency. This is hers: “A codependent person is one who has let another person’s\\nMelody Beatty makes it clear that there are many definitions of codependency. This is hers: “A codependent person is one who has let another person’s behavior affect him or her, and who is obsessed with controlling that person’s behavior. She offers a very extensive, detailed and very practical list of codependent characteristics such as: caretaking – low self-worth – repression – obsessions – controlling behavior – denial – dependency – poor communication – weak boundaries – luck of trust – anger – sex problems etc. Dependency may be manifested in various ways, for example: codependents don’t feel happy, content, or peaceful with themselves. I can certainly have identified with most of the characteristic for a very long time, especially with: weak boundaries. I have benefitted greatly from this book: very effective and very practical.I am happy to report that, for the past several years, I have been able to avoid being trapped by codependent relationships. In Missing Links I ask the question, Our Relationships: are they Energy “suckers” or energy “busters”? See Missing Links, Chapter 10 and ff.\\n...more',\n",
       "    '/book/show/534450.Codependent_No_More_Beyond_Codependency'],\n",
       "   ['4.00', 'None', '/book/show/26329.Emotional_Intelligence'],\n",
       "   ['4.25',\n",
       "    'A must read for anybody who wants to really grow up and gain maturity.',\n",
       "    '/book/show/613451.An_End_to_Innocence'],\n",
       "   ['4.50', 'None', '/book/show/15443281-the-intimate-enemy'],\n",
       "   ['4.19',\n",
       "    'Extremely effective and vary practical!',\n",
       "    '/book/show/13414713-vision-for-life'],\n",
       "   ['3.49', 'None', '/book/show/9853441-the-self-compassion-diet'],\n",
       "   ['4.42',\n",
       "    'This book changed my life! After reading it I understood that nothing is impossible, if we really, really want it!',\n",
       "    '/book/show/723010.Self_Healing'],\n",
       "   ['4.30', 'None', '/book/show/35519.The_Power_of_Myth'],\n",
       "   ['4.35',\n",
       "    'A must read! ... for anybody interested in finding out the true purpose of our lives.',\n",
       "    '/book/show/4069.Man_s_Search_for_Meaning'],\n",
       "   ['3.62',\n",
       "    'Some people are born \"wired\" happy ... most people are not. Certainly I was not one of those that was \"wired\" happy. Quite the opposite in fact. In th\\nSome people are born \"wired\" happy ... most people are not. Certainly I was not one of those that was \"wired\" happy. Quite the opposite in fact. In this book we find and very practical and effective strategies and tools to become happy. You may just find some that may work for you. This book is very practical and quite effective\\n...more',\n",
       "    '/book/show/441261.The_100_Simple_Secrets_of_Happy_People'],\n",
       "   ['4.21',\n",
       "    'We need to accept that fear is a very much needed emotions, just as anger is. There is a huge difference between a real fear and a perceived anxiety.\\nWe need to accept that fear is a very much needed emotions, just as anger is. There is a huge difference between a real fear and a perceived anxiety. Fear can help us to mobilize us and to give us the energy and the momentum to overcome what we were not ready to overcome before.This is a very practical and most useful book. I highly recommend it.\\n...more',\n",
       "    '/book/show/56465.The_Gift_of_Fear'],\n",
       "   ['3.76',\n",
       "    'This book confirms what I have been practicing for years. Movies are an absolutely wonderful way not only to entertain ourselves but also to receive a\\nThis book confirms what I have been practicing for years. Movies are an absolutely wonderful way not only to entertain ourselves but also to receive a huge amount of inspiration. Good movies can actually raise our spirits and heal us in many ways: sometimes consciously sometimes sub-consciously. This is what I wrote about in Missing Links, pages 268 and 269: Benefitting from inspiring moviesEntertaining and inspiring movies are the result of a collective process of creativity which may involve some of the most talented and creative people on our planet. As I have already shared in Chapter 12, I tend to agree completely with Shakespeare when he writes in As You Like It, ( II, 7):“All the world’s a stage, and all the men and women merely players.”Quite often I don’t know where life ends and theatre begins and vice versa, and ... quite frankly, I no longer care. A wonderful example of this can be found in Robert Altman’s film Cookie’s Fortune, starring Glenn Close, Julianne More & Co. I find that life is a never-ending adventure and thatgood movies are a wonderful extension of our lives. Movies and theatre are a wonderful way to learn more about ourselves, about others and about the world in which we live. At the same time we are also being entertained. I often refer to movies because they are easily accessible to most of us. They can be viewed in our homes, and we can enjoy them even when we are tired. When I buy movies I try to buy only those movies that inspire me, that educate me and that I find entertaining. The movies I watch over and over, are the movies that are the most entertaining and the most inspiring. I find that movies are one of the most readily available and one of most effective sources of information, entertainment and inspiration. For more on this I refer you to the book The Motion Picture Prescription, by Gary Solomon.\\n...more',\n",
       "    '/book/show/1373746.The_Motion_Picture_Prescription'],\n",
       "   ['4.39',\n",
       "    'This book and other books by Glasser about Reality Therapy, changed my life. This is what I wrote about it in Missing Links, on page 200: Reality Ther\\nThis book and other books by Glasser about Reality Therapy, changed my life. This is what I wrote about it in Missing Links, on page 200: Reality Therapy, by William Glasser, was one of the books that helped me the most in my first years of self-transformation. It is by reading this book that I was able to finally accept that I had to take responsibility for my life and for my behavior. I did so to a degree to which I had not been able to do until that time. I also learned to take more responsibility for my emotions and for my behaviors. I was privileged to have been able to take part in a conference at which William Glasser demonstrated some of his techniques on stage, with the active participation of volunteers. I was very impressed and enormously inspired!\\n...more',\n",
       "    '/book/show/1440496.Take_Effective_Control_of_Your_Life'],\n",
       "   ['3.62', 'None', '/book/show/4031914-the-right-use-of-power']],\n",
       "  [['3.99',\n",
       "    'This book helped me to find the right path ... and avoid unnecessary temptations.',\n",
       "    '/book/show/119390.If_You_Meet_the_Buddha_on_the_Road_Kill_Him'],\n",
       "   ['4.17',\n",
       "    'This is a book that has helped me in a major way to expand my understanding of the universe.Literally: mind-expanding. It has added a whole new way of\\nThis is a book that has helped me in a major way to expand my understanding of the universe.Literally: mind-expanding. It has added a whole new way of thinking and of understanding the universe and of the interconnectedness between all its elements. It has opened up vast new horizons that had been unavailable to me. It is written in a reader-friendly way, that most of us can understand, even without being wizards in maths and science. Thoroughly fascinating!\\n...more',\n",
       "    '/book/show/319014.The_Holographic_Universe'],\n",
       "   ['4.02',\n",
       "    'An exxxtremely helpful and very practical book. To deal with fear, anxieties and toxic emotions is never easy. I have learned much that is useful and\\nAn exxxtremely helpful and very practical book. To deal with fear, anxieties and toxic emotions is never easy. I have learned much that is useful and practical from this book. I have been guided and inspired by this book for decades. It has guided be to write Chapter 13 in Missing Links which deals with: Our Toxic Emotions. I am truly very grateful to Susan Jeffers.\\n...more',\n",
       "    '/book/show/653396.Feel_the_Fear_and_Do_It_Anyway'],\n",
       "   ['3.72',\n",
       "    'I love the title of this book. Actually the title was the inspiration for a humorous maxim that has by now become accepted in twelve step and other ki\\nI love the title of this book. Actually the title was the inspiration for a humorous maxim that has by now become accepted in twelve step and other kinds of support groups: \"I am not OK, you are not OK, and that\\'s OK!\" This book deals with the multiple nature of human beings and it has been a great inspiration for me. For example, this book has helped me to increase my understanding of our Inner Characters and their interactions, especially our inner Mother, Father and Child. I find that this book has helped me to understand much better how my Total Self operates. Our Inner Characters are always active. I have learned to recognize them, to accept them and to deal with them much better.\\n...more',\n",
       "    '/book/show/134353.I_m_OK_You_re_OK'],\n",
       "   ['3.79',\n",
       "    'This quote from the book is one that guides my life almost every day:“I went to the woods because I wished to live deliberately, to front only the ess\\nThis quote from the book is one that guides my life almost every day:“I went to the woods because I wished to live deliberately, to front only the essential facts of life, and see if I could not learn what it had to teach, and not, when I came to die, discover that I had not lived. I did not wish to live what was not life, living is so dear; nor did I wish to practise resignation, unless it was quite necessary. I wanted to live deep and suck out all the marrow of life, to live so sturdily and Spartan-like as to put to rout all that was not life, to cut a broad swath and shave close, to drive life into a corner, and reduce it to its lowest terms.” ― Henry David Thoreau, Walden: Or, Life in the Woods Please see: Missing Links, page 93, at www.danielpetra.com\\n...more',\n",
       "    '/book/show/16902.Walden'],\n",
       "   ['4.33',\n",
       "    'Nelson Mandela is one of my greatest heroes. A few years I wrote this poem about him:THANK YOU, NELSON MANDELAI have read your story; and I am, once a\\nNelson Mandela is one of my greatest heroes. A few years I wrote this poem about him:THANK YOU, NELSON MANDELAI have read your story; and I am, once again, proud to be a man.As long as there are still men like you on this planet,with your integrity, your courage anda BIG strong heart,there is still hope for Humanity.A BIG, strong heart, to be able to forgive,and forgive, we must……no matter how hard……not matter how difficult……no matter how long.That is the lesson:either we forgive togetheror we perish together!Thank you, Nelson Mandela andglory to you for all eternity.Copyright © December 2010 - Daniel Petra \\n...more',\n",
       "    '/book/show/318431.Long_Walk_to_Freedom'],\n",
       "   ['5.00',\n",
       "    'For many people this is one of the burning questions of our times. From what I am able to observe, far too many couples are not enjoying satisfying se\\nFor many people this is one of the burning questions of our times. From what I am able to observe, far too many couples are not enjoying satisfying sex, or have almost stopped having sex altogether. This can be verified by the exponential traffic in sex on the internet etc. This book addresses many of the aspects of sexuality for couples and offers many practical answers. Appendix A: Twenty-three Ways to Make Sex Good, is one of the most practical and effective guides to sexuality and to communication that I have ever seen! I strongly recommend it.\\n...more',\n",
       "    '/book/show/3013209-is-there-sex-after-marriage'],\n",
       "   ['3.78',\n",
       "    'This book is truly amazing! It does not matter that it is a work of fiction.As far as I am concerned, it should be REAL!',\n",
       "    '/book/show/32349.Mutant_Message_Down_Under'],\n",
       "   ['3.76', 'None', '/book/show/3303160-creative-aggression'],\n",
       "   ['4.25', 'None', '/book/show/20946334-fatigue'],\n",
       "   ['4.43',\n",
       "    'Sooner or later all of us will have to face and go through our own :Hero\\' Journey\" ... whether we like it or not! We may try to avoid it as long as we\\nSooner or later all of us will have to face and go through our own :Hero\\' Journey\" ... whether we like it or not! We may try to avoid it as long as we can. I did!\\n...more',\n",
       "    '/book/show/242530.The_Hero_s_Journey'],\n",
       "   ['4.35',\n",
       "    'This is an incredibly amazing collection of poems that is used in the Mythopoetic movement of which I am a member. it contains some of my favorite poe\\nThis is an incredibly amazing collection of poems that is used in the Mythopoetic movement of which I am a member. it contains some of my favorite poems. It is about mostly \"crazy wisdom\" and \"radical creativity\" and total liberation. It is in the Mithopoethic movement that I discovered the natural and organic tools and processes that have guided me in writing Missing Links. Reading these poems may change your life. It sure changed mine!Go for it!\\n...more',\n",
       "    '/book/show/162343.The_Rag_and_Bone_Shop_of_the_Heart'],\n",
       "   ['3.53', 'None', '/book/show/665192.In_Search_Of_Stones'],\n",
       "   ['3.98', 'None', '/book/show/358135.Who_Needs_God'],\n",
       "   ['3.68', 'None', '/book/show/21894404-the-end-of-innocence'],\n",
       "   ['3.88', 'None', '/book/show/1252818.Reality_Therapy'],\n",
       "   ['4.64',\n",
       "    'None',\n",
       "    '/book/show/21557474-give-yourself-permission-to-live-your-life'],\n",
       "   ['4.19', 'None', '/book/show/702389.Ralph_Waldo_Emerson'],\n",
       "   ['4.22', 'None', '/book/show/588138.The_Hero_With_a_Thousand_Faces']],\n",
       "  []],\n",
       " [[]]]"
      ]
     },
     "execution_count": 369,
     "metadata": {},
     "output_type": "execute_result"
    }
   ],
   "source": [
    "test_users"
   ]
  },
  {
   "cell_type": "code",
   "execution_count": 361,
   "metadata": {},
   "outputs": [],
   "source": [
    "\n",
    "\n",
    "#book_ratings_by_user = get_book_ratings(['/review/list/23423339-groovy-lee', '/review/list/35755723-daniel-petra'])\n",
    "\n",
    "book_ratings_by_user = get_book_ratings('/review/list/4859493-pepperp0t')\n",
    "\n"
   ]
  },
  {
   "cell_type": "code",
   "execution_count": 362,
   "metadata": {},
   "outputs": [
    {
     "data": {
      "text/plain": [
       "1"
      ]
     },
     "execution_count": 362,
     "metadata": {},
     "output_type": "execute_result"
    }
   ],
   "source": [
    "len(book_ratings_by_user)"
   ]
  },
  {
   "cell_type": "code",
   "execution_count": 363,
   "metadata": {},
   "outputs": [
    {
     "data": {
      "text/plain": [
       "[[]]"
      ]
     },
     "execution_count": 363,
     "metadata": {},
     "output_type": "execute_result"
    }
   ],
   "source": [
    "book_ratings_by_user"
   ]
  },
  {
   "cell_type": "code",
   "execution_count": 336,
   "metadata": {},
   "outputs": [
    {
     "data": {
      "text/plain": [
       "18"
      ]
     },
     "execution_count": 336,
     "metadata": {},
     "output_type": "execute_result"
    }
   ],
   "source": [
    "len(book_ratings_by_user[-2])"
   ]
  },
  {
   "cell_type": "code",
   "execution_count": 288,
   "metadata": {},
   "outputs": [],
   "source": [
    "#         time.sleep(.5)\n",
    "#         user_r = urllib.request.urlopen(users_url)\n",
    "#         soup_url = bs(user_r, 'html.parser')\n",
    "#         users_urls = soup_url.find_all('a', {'class': 'userName'}, href=True)\n",
    "#         urls.append(['/review/list/'+users_urls[i]['href'][11:] for i in range(len(users_urls))])\n",
    "        "
   ]
  },
  {
   "cell_type": "code",
   "execution_count": 289,
   "metadata": {},
   "outputs": [],
   "source": [
    "\n",
    "# def get_users_urls():\n",
    "\n",
    "#     urls = []\n",
    "#     for i in range(100):\n",
    "        \n",
    "#         users_url = f'https://www.goodreads.com/group/105786-goodreads-reviewers-group/members?page={i+1}&sort=num_comments'\n",
    "#         time.sleep(.5)\n",
    "#         user_r = urllib.request.urlopen(users_url)\n",
    "#         soup_url = bs(user_r, 'html.parser')\n",
    "#         users_urls = soup_url.find_all('a', {'class': 'userName'}, href=True)\n",
    "#         urls.append(['/review/list/'+users_urls[i]['href'][11:] for i in range(len(users_urls))])\n",
    "        \n",
    "#     return urls\n",
    "\n"
   ]
  },
  {
   "cell_type": "code",
   "execution_count": 297,
   "metadata": {},
   "outputs": [
    {
     "data": {
      "text/plain": [
       "11.333333333333334"
      ]
     },
     "execution_count": 297,
     "metadata": {},
     "output_type": "execute_result"
    }
   ],
   "source": [
    "250/30 +3"
   ]
  },
  {
   "cell_type": "code",
   "execution_count": 299,
   "metadata": {},
   "outputs": [
    {
     "data": {
      "text/plain": [
       "119.66666666666667"
      ]
     },
     "execution_count": 299,
     "metadata": {},
     "output_type": "execute_result"
    }
   ],
   "source": [
    "3500/30 +3 "
   ]
  },
  {
   "cell_type": "code",
   "execution_count": 376,
   "metadata": {},
   "outputs": [
    {
     "data": {
      "text/plain": [
       "75000"
      ]
     },
     "execution_count": 376,
     "metadata": {},
     "output_type": "execute_result"
    }
   ],
   "source": [
    "3000*25"
   ]
  },
  {
   "cell_type": "code",
   "execution_count": null,
   "metadata": {},
   "outputs": [],
   "source": []
  }
 ],
 "metadata": {
  "kernelspec": {
   "display_name": "Python 3",
   "language": "python",
   "name": "python3"
  },
  "language_info": {
   "codemirror_mode": {
    "name": "ipython",
    "version": 3
   },
   "file_extension": ".py",
   "mimetype": "text/x-python",
   "name": "python",
   "nbconvert_exporter": "python",
   "pygments_lexer": "ipython3",
   "version": "3.6.7"
  }
 },
 "nbformat": 4,
 "nbformat_minor": 2
}
